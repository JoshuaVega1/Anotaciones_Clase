{
 "cells": [
  {
   "cell_type": "code",
   "execution_count": 2,
   "id": "b2117e7d",
   "metadata": {},
   "outputs": [
    {
     "name": "stdout",
     "output_type": "stream",
     "text": [
      "Hola, Mundo\n"
     ]
    }
   ],
   "source": [
    "print(\"Hola, Mundo\")"
   ]
  },
  {
   "cell_type": "code",
   "execution_count": 3,
   "id": "c116ead5",
   "metadata": {},
   "outputs": [
    {
     "name": "stdout",
     "output_type": "stream",
     "text": [
      "13\n"
     ]
    }
   ],
   "source": [
    "a=8\n",
    "b=5\n",
    "c=a + b\n",
    "print(c)"
   ]
  },
  {
   "cell_type": "code",
   "execution_count": 4,
   "id": "ae803390",
   "metadata": {},
   "outputs": [
    {
     "data": {
      "text/plain": [
       "13"
      ]
     },
     "execution_count": 4,
     "metadata": {},
     "output_type": "execute_result"
    }
   ],
   "source": [
    "c"
   ]
  },
  {
   "cell_type": "code",
   "execution_count": 5,
   "id": "c5b40f01",
   "metadata": {},
   "outputs": [],
   "source": [
    "c?"
   ]
  },
  {
   "cell_type": "code",
   "execution_count": 6,
   "id": "a1309dd2",
   "metadata": {},
   "outputs": [
    {
     "data": {
      "text/html": [
       "<div>\n",
       "<style scoped>\n",
       "    .dataframe tbody tr th:only-of-type {\n",
       "        vertical-align: middle;\n",
       "    }\n",
       "\n",
       "    .dataframe tbody tr th {\n",
       "        vertical-align: top;\n",
       "    }\n",
       "\n",
       "    .dataframe thead th {\n",
       "        text-align: right;\n",
       "    }\n",
       "</style>\n",
       "<table border=\"1\" class=\"dataframe\">\n",
       "  <thead>\n",
       "    <tr style=\"text-align: right;\">\n",
       "      <th></th>\n",
       "    </tr>\n",
       "  </thead>\n",
       "  <tbody>\n",
       "  </tbody>\n",
       "</table>\n",
       "</div>"
      ],
      "text/plain": [
       "Empty DataFrame\n",
       "Columns: []\n",
       "Index: []"
      ]
     },
     "execution_count": 6,
     "metadata": {},
     "output_type": "execute_result"
    }
   ],
   "source": [
    "import pandas as pd\n",
    "pd.DataFrame()"
   ]
  },
  {
   "cell_type": "code",
   "execution_count": 7,
   "id": "49c24081",
   "metadata": {},
   "outputs": [
    {
     "name": "stderr",
     "output_type": "stream",
     "text": [
      "ERROR:root:No traceback has been produced, nothing to debug.\n"
     ]
    }
   ],
   "source": [
    "%debug"
   ]
  },
  {
   "cell_type": "markdown",
   "id": "df51a27d",
   "metadata": {},
   "source": [
    "# Markdown"
   ]
  },
  {
   "cell_type": "markdown",
   "id": "98a19c16",
   "metadata": {},
   "source": [
    "_Hola_"
   ]
  },
  {
   "cell_type": "markdown",
   "id": "8933426c",
   "metadata": {},
   "source": [
    "### Cómo colocar código en markdown?\n",
    "\n",
    "\n",
    "Utilice `print(\"Hello, World\")`\n",
    "\n",
    "Código más extenso:\n",
    "``` python\n",
    "a= 3\n",
    "b= 5\n",
    "c= a + b\n",
    "print(c)\n",
    "```\n",
    "```js\n",
    "console.log(\"Hello, World\")\n",
    "```\n"
   ]
  },
  {
   "cell_type": "markdown",
   "id": "f531d01b",
   "metadata": {},
   "source": [
    "### Listas con Markdown\n",
    "\n",
    "#### Ingredientes\n",
    "\n",
    "* Harina\n",
    "* Huevo\n",
    "* Sal\n",
    "* Agua\n",
    "* Mantequilla\n",
    "  - Marca X\n",
    "  - Marca Y\n",
    "#### Procedimiento\n",
    "1. Calentar el agua\n",
    "2. Mezclar la harina con la sal\n",
    "    1. Mezclar ingredientes secos\n",
    "    2. Mezclar ingredientes secos con liquidos"
   ]
  },
  {
   "cell_type": "markdown",
   "id": "bfe7fb88",
   "metadata": {},
   "source": [
    "para las imagenes se utilizan el comando ![Nombre](Nombre guardado)\n",
    "\n"
   ]
  },
  {
   "cell_type": "markdown",
   "id": "9d984fc0",
   "metadata": {},
   "source": [
    "con HTML se hace con <img src=\"nombre del archivo\"\n",
    "\n"
   ]
  },
  {
   "cell_type": "markdown",
   "id": "b43c01e8",
   "metadata": {},
   "source": [
    "Ir a [google](https://www.google.com/?hl=es)\n",
    "\n",
    "Ir a [Markdown - inicio](#Markdown)"
   ]
  },
  {
   "cell_type": "markdown",
   "id": "8978e18a",
   "metadata": {},
   "source": [
    "Ecuación de la linea recta $y$:\n",
    "$$y= mx+b$$\n"
   ]
  },
  {
   "cell_type": "markdown",
   "id": "7a57354c",
   "metadata": {},
   "source": [
    "el print se utiliza para imprimir en consola un texto/número \n",
    "su estructura es: print(\"Texto\")"
   ]
  },
  {
   "cell_type": "markdown",
   "id": "29223cb7",
   "metadata": {},
   "source": [
    "Los enteros son con int y los decimales son con float "
   ]
  },
  {
   "cell_type": "markdown",
   "id": "e082f285",
   "metadata": {},
   "source": [
    "para las potencia se utiliza el ** y para dividir se usa el %\n"
   ]
  },
  {
   "cell_type": "markdown",
   "id": "dda8cda0",
   "metadata": {},
   "source": [
    "# Introducción a python "
   ]
  },
  {
   "cell_type": "code",
   "execution_count": 1,
   "id": "317778e4",
   "metadata": {},
   "outputs": [],
   "source": [
    "# los comentarios se colocan con #"
   ]
  },
  {
   "cell_type": "code",
   "execution_count": 5,
   "id": "28bb1c1d",
   "metadata": {},
   "outputs": [
    {
     "name": "stdout",
     "output_type": "stream",
     "text": [
      "My name is Joshua\n",
      "I am 20 years old\n"
     ]
    }
   ],
   "source": [
    "name=\"Joshua\"\n",
    "print(\"My name is \"+ name)\n",
    "age = 20\n",
    "print (\"I am \" +str(age) + \" years old\")\n"
   ]
  },
  {
   "cell_type": "code",
   "execution_count": 6,
   "id": "957768ae",
   "metadata": {},
   "outputs": [
    {
     "name": "stdout",
     "output_type": "stream",
     "text": [
      " la estatura promedio es 168.33333333333334 Cm\n"
     ]
    }
   ],
   "source": [
    "David_height=170\n",
    "Santana_height=169\n",
    "Maylin_height=166\n",
    "avg_height= (David_height + Santana_height + Maylin_height)/3 \n",
    "print (\" la estatura promedio es \"+ str(avg_height) + \" Cm\")"
   ]
  },
  {
   "cell_type": "code",
   "execution_count": 8,
   "id": "ffe6980e",
   "metadata": {},
   "outputs": [
    {
     "data": {
      "text/plain": [
       "'168.33333333333334'"
      ]
     },
     "execution_count": 8,
     "metadata": {},
     "output_type": "execute_result"
    }
   ],
   "source": [
    "total_height=0\n",
    "total_height += David_height\n",
    "total_height += Santana_height\n",
    "total_height += Maylin_height\n",
    "total_height= total_height/3\n",
    "str (total_height)"
   ]
  },
  {
   "cell_type": "markdown",
   "id": "013f913f",
   "metadata": {},
   "source": [
    "*Expresiones Boleanas*\n",
    "\n",
    "*==\n",
    "*!=\n",
    "*>=\n",
    "*<=\n",
    "*<\n",
    "*>"
   ]
  },
  {
   "cell_type": "markdown",
   "id": "3fcfcd52",
   "metadata": {},
   "source": [
    "# Flux Control"
   ]
  },
  {
   "cell_type": "code",
   "execution_count": 14,
   "id": "9523fe03",
   "metadata": {},
   "outputs": [
    {
     "name": "stdout",
     "output_type": "stream",
     "text": [
      "D\n"
     ]
    }
   ],
   "source": [
    "point= 39\n",
    "if point >= 90 and point<100:\n",
    "    print(\"A\")\n",
    "elif point>= 75 and point<90:\n",
    "    print(\"B\")\n",
    "elif point>= 60 and point<75:\n",
    "    print(\"C\")\n",
    "elif point >=30 and point<60:\n",
    "    print(\"D\")\n",
    "else: \n",
    "    print(\"Nel perro\")"
   ]
  },
  {
   "cell_type": "code",
   "execution_count": 15,
   "id": "40b017f7",
   "metadata": {},
   "outputs": [
    {
     "name": "stdout",
     "output_type": "stream",
     "text": [
      "¿Cuanto tiempo demoró?: 20\n",
      "Usted recorrió: 1200.0km\n"
     ]
    }
   ],
   "source": [
    "speed= 60 #km/h\n",
    "time= input (\"¿Cuanto tiempo demoró?: \")\n",
    "print((\"Usted recorrió: \")+ str(speed*float(time))+ \"km\")"
   ]
  },
  {
   "cell_type": "code",
   "execution_count": 17,
   "id": "c5623599",
   "metadata": {},
   "outputs": [
    {
     "name": "stdout",
     "output_type": "stream",
     "text": [
      "[170, 163, 178, 165, 166, 160]\n"
     ]
    }
   ],
   "source": [
    "heights= []\n",
    "male_heights=[170, 163, 178, 165]\n",
    "female_heights=[166,160]\n",
    "heights= male_heights + female_heights\n",
    "print(heights)"
   ]
  },
  {
   "cell_type": "code",
   "execution_count": 24,
   "id": "64c53c98",
   "metadata": {},
   "outputs": [
    {
     "name": "stdout",
     "output_type": "stream",
     "text": [
      "[170, 163, 178, 165, 166, 160, 168, 168]\n",
      "[168, 168, 160, 166, 165, 178, 163, 170]\n"
     ]
    }
   ],
   "source": [
    "heights.append(168)\n",
    "print(heights)\n",
    "print(heights[::-1])"
   ]
  },
  {
   "cell_type": "code",
   "execution_count": 19,
   "id": "4e806ba3",
   "metadata": {},
   "outputs": [
    {
     "name": "stdout",
     "output_type": "stream",
     "text": [
      "168\n"
     ]
    }
   ],
   "source": [
    "last_heights= heights[-1]\n",
    "print(last_heights)"
   ]
  },
  {
   "cell_type": "code",
   "execution_count": 20,
   "id": "d6d4a07e",
   "metadata": {},
   "outputs": [
    {
     "name": "stdout",
     "output_type": "stream",
     "text": [
      "7\n"
     ]
    }
   ],
   "source": [
    "n_heights= len(heights)\n",
    "print(n_heights)"
   ]
  },
  {
   "cell_type": "code",
   "execution_count": 22,
   "id": "5828fa25",
   "metadata": {},
   "outputs": [
    {
     "name": "stdout",
     "output_type": "stream",
     "text": [
      "[0, 1, 2, 3, 4, 5, 6]\n"
     ]
    }
   ],
   "source": [
    "range_a= range(n_heights)\n",
    "print(list(range_a))"
   ]
  },
  {
   "cell_type": "code",
   "execution_count": 26,
   "id": "1b143ae1",
   "metadata": {},
   "outputs": [
    {
     "name": "stdout",
     "output_type": "stream",
     "text": [
      "[2, 3, 4, 5, 6, 7, 8, 9, 10, 11, 12, 13, 14, 15, 16, 17, 18, 19]\n"
     ]
    }
   ],
   "source": [
    "range_b=range(2,20)\n",
    "print(list(range_b))"
   ]
  },
  {
   "cell_type": "code",
   "execution_count": 28,
   "id": "99d2ad9d",
   "metadata": {},
   "outputs": [
    {
     "name": "stdout",
     "output_type": "stream",
     "text": [
      "[5, 1, -3, -7]\n"
     ]
    }
   ],
   "source": [
    "range_c = range(5,-10, -4)\n",
    "print(list(range_c))"
   ]
  },
  {
   "cell_type": "code",
   "execution_count": 32,
   "id": "63d581f8",
   "metadata": {},
   "outputs": [
    {
     "name": "stdout",
     "output_type": "stream",
     "text": [
      "[('Salchipapa', 20000), ('Pizza', 7000), ('Hamburguesa', 200000), ('Hot Dog', 25000)]\n"
     ]
    }
   ],
   "source": [
    "fast_foods= [\"Salchipapa\", \"Pizza\", \"Hamburguesa\", \"Hot Dog\"]\n",
    "prices= [20000, 7000, 200000, 25000]\n",
    "food_prices= list(zip(fast_foods, prices))\n",
    "print(food_prices)"
   ]
  },
  {
   "cell_type": "code",
   "execution_count": 33,
   "id": "3b9cf567",
   "metadata": {},
   "outputs": [
    {
     "name": "stdout",
     "output_type": "stream",
     "text": [
      "20000\n"
     ]
    }
   ],
   "source": [
    "print(food_prices[0][1])"
   ]
  },
  {
   "cell_type": "code",
   "execution_count": 34,
   "id": "8a00b4e1",
   "metadata": {},
   "outputs": [
    {
     "name": "stdout",
     "output_type": "stream",
     "text": [
      "Garavito\n",
      "Santana\n",
      "Joshua\n",
      "Zabala\n",
      "JP\n"
     ]
    }
   ],
   "source": [
    "names= [\"Garavito\", \"Santana\", \"Joshua\", \"Zabala\", \"JP\"]\n",
    "for name in names: \n",
    "    print(name)"
   ]
  },
  {
   "cell_type": "code",
   "execution_count": 37,
   "id": "7689edb6",
   "metadata": {},
   "outputs": [
    {
     "name": "stdout",
     "output_type": "stream",
     "text": [
      "Garavito\n",
      "Santana\n",
      "Joshua\n",
      "Zabala\n",
      "JP\n"
     ]
    }
   ],
   "source": [
    "for i in range (len(names)): \n",
    "    print(names[i])"
   ]
  },
  {
   "cell_type": "code",
   "execution_count": 41,
   "id": "cbb31feb",
   "metadata": {},
   "outputs": [
    {
     "name": "stdout",
     "output_type": "stream",
     "text": [
      "5\n",
      "6\n",
      "7\n",
      "8\n",
      "9\n",
      "10\n",
      "11\n",
      "12\n",
      "13\n",
      "14\n"
     ]
    }
   ],
   "source": [
    "counter = 5\n",
    "while counter<15:\n",
    "    print(counter)\n",
    "    counter += 1\n",
    "    "
   ]
  },
  {
   "cell_type": "code",
   "execution_count": 43,
   "id": "062a3fad",
   "metadata": {},
   "outputs": [
    {
     "name": "stdout",
     "output_type": "stream",
     "text": [
      "[-8, 4, 1, -17, 25, 40, -29, -5]\n"
     ]
    }
   ],
   "source": [
    "m= 3\n",
    "b= -5\n",
    "x= [-1, 3, 2, -4, 10, 15, -8, 0]\n",
    "# y= mx + b\n",
    "y= [m*xi + b for xi in x]\n",
    "print(y)"
   ]
  },
  {
   "cell_type": "markdown",
   "id": "090f1c90",
   "metadata": {},
   "source": [
    "Determine cúantos números de una lista debe contar hasta sumar en orden un valor ingresado por el usuario"
   ]
  },
  {
   "cell_type": "markdown",
   "id": "e62defad",
   "metadata": {},
   "source": [
    "Probando para ver si se actualiza el github\n"
   ]
  },
  {
   "cell_type": "markdown",
   "id": "dc3bddfb",
   "metadata": {},
   "source": [
    "hola\n",
    "hola\n",
    "hola"
   ]
  },
  {
   "cell_type": "markdown",
   "id": "336e0186",
   "metadata": {},
   "source": [
    "como estas?"
   ]
  },
  {
   "cell_type": "code",
   "execution_count": null,
   "id": "67d58eec",
   "metadata": {},
   "outputs": [],
   "source": []
  }
 ],
 "metadata": {
  "kernelspec": {
   "display_name": "Python 3 (ipykernel)",
   "language": "python",
   "name": "python3"
  },
  "language_info": {
   "codemirror_mode": {
    "name": "ipython",
    "version": 3
   },
   "file_extension": ".py",
   "mimetype": "text/x-python",
   "name": "python",
   "nbconvert_exporter": "python",
   "pygments_lexer": "ipython3",
   "version": "3.9.12"
  }
 },
 "nbformat": 4,
 "nbformat_minor": 5
}
