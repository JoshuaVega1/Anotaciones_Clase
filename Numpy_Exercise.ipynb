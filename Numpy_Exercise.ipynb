{
 "cells": [
  {
   "cell_type": "code",
   "execution_count": 4,
   "id": "b3f5e08e",
   "metadata": {},
   "outputs": [
    {
     "name": "stdout",
     "output_type": "stream",
     "text": [
      "5.220000000000001\n"
     ]
    }
   ],
   "source": [
    "import numpy as np\n",
    "survey_responses =[5,10.2,4,.3,6.6]\n",
    "survey_array = np.array(survey_responses)\n",
    "print(np.mean(survey_array))"
   ]
  },
  {
   "cell_type": "code",
   "execution_count": 10,
   "id": "35387b67",
   "metadata": {},
   "outputs": [
    {
     "name": "stdout",
     "output_type": "stream",
     "text": [
      "6.5\n",
      "10.428571428571429\n",
      "5.0\n"
     ]
    }
   ],
   "source": [
    "import numpy as np\n",
    "store_one= np.array([2,5,8,3,4,10,15,5])\n",
    "store_two=np.array([3,17,18,9,2,14,10])\n",
    "store_three=np.array([7,5,4,3,2,7,7])\n",
    "print(np.mean(store_one))\n",
    "print(np.mean(store_two))\n",
    "print(np.mean(store_three))"
   ]
  },
  {
   "cell_type": "code",
   "execution_count": 11,
   "id": "9e92cc09",
   "metadata": {},
   "outputs": [
    {
     "name": "stdout",
     "output_type": "stream",
     "text": [
      "0.2\n"
     ]
    }
   ],
   "source": [
    "import numpy as np\n",
    "survey_responses= [5,10.2,4,.3,6.6]\n",
    "survey_array= np.array(survey_responses)\n",
    "print(np.mean(survey_array >8))"
   ]
  },
  {
   "cell_type": "code",
   "execution_count": 18,
   "id": "c6b129da",
   "metadata": {},
   "outputs": [
    {
     "name": "stdout",
     "output_type": "stream",
     "text": [
      "El porcentaje de los estudiantes que se graduaron despues del 2015 fue del 20.0 %\n"
     ]
    }
   ],
   "source": [
    "import numpy as np\n",
    "class_year = np.array([1967, 1949,2004, 1997, 1953, 1950, 1958, 1974,1987, 2006, 2013, 1978, 1951, 1998,1996, 1952, 2005, 2007, 2003, 1955,\n",
    "1963, 1978, 2001, 2012, 2014, 1948,1970, 2011, 1962, 1966, 1978, 1988,2006, 1971, 1994, 1978, 1977, 1960,2008, 1965, 1990, 2011, 1962, 1995,\n",
    "2004, 1991, 1952, 2013, 1983, 1955,1957, 1947, 1994, 1978, 1957, 2016,1969, 1996, 1958, 1994, 1958, 2008,1988, 1977, 1991, 1997, 2009, 1976,\n",
    "1999, 1975, 1949, 1985, 2001, 1952,1953, 1949, 2015, 2006, 1996, 2015,2009, 1949, 2004, 2010, 2011, 2001,1998, 1967, 1994, 1966, 1994, 1986,\n",
    "1963, 1954, 1963, 1987, 1992, 2008,1979, 1987]) \n",
    "x=(np.mean(class_year >2005))*100\n",
    "print(\"El porcentaje de los estudiantes que se graduaron despues del 2015 fue del\",x,\"%\")"
   ]
  },
  {
   "cell_type": "code",
   "execution_count": 24,
   "id": "04fe6f46",
   "metadata": {},
   "outputs": [
    {
     "name": "stdout",
     "output_type": "stream",
     "text": [
      "La media del total es: 5.266666666666667\n",
      "La media por prueba es de: [4.  5.6 6.2]\n",
      "La media de cada paciente es: [4.33333333 3.         4.         8.66666667 6.33333333]\n"
     ]
    }
   ],
   "source": [
    "import numpy as np\n",
    "allergy_tryals= np.array([[6,1,3,8,2],\n",
    "                          [2,6,3,9,8],\n",
    "                          [5,2,6,9,9]])\n",
    "total_mean=np.mean(allergy_tryals)\n",
    "trial_mean=np.mean(allergy_tryals,axis=1)\n",
    "patient_mean=np.mean(allergy_tryals,axis=0)\n",
    "print(\"La media del total es:\", total_mean)\n",
    "print(\"La media por prueba es de:\", trial_mean)\n",
    "print(\"La media de cada paciente es:\", patient_mean)"
   ]
  },
  {
   "cell_type": "code",
   "execution_count": 25,
   "id": "48538e8f",
   "metadata": {},
   "outputs": [
    {
     "name": "stdout",
     "output_type": "stream",
     "text": [
      "[ 85  85  85  85  85  86  86  86  86  86  86  86  87  87  87  87  87  87\n",
      "  87  88  88  88  88  88  88  88  88  89  89  90  90  90  90  90  90  90\n",
      "  90  91  91  91  92  92  92  92  92  93  93  93  93  93  94  94  94  94\n",
      "  94  94  94  95  95  96  96  96  96  96  96  97  97  97  97  97  98  98\n",
      "  98  98  98  98  99  99  99  99  99 100 101 101 187 191 195 196 198 199]\n"
     ]
    }
   ],
   "source": [
    "import numpy as np\n",
    "temps = np.array([86, 88, 94, 85, 97, 90,\n",
    "87, 85, 94, 93, 92, 95, 98, 85, 94, 91, 97,\n",
    "88, 87, 86, 99, 89, 89, 99, 88, 96, 93, 96,\n",
    "85, 88, 191, 95, 96, 87, 99, 93, 90, 86, 87,\n",
    "100, 187, 98, 101, 101, 96, 94, 96, 87, 86,\n",
    "92, 98,94, 98, 90, 99, 96, 99, 86, 97, 98,\n",
    "86, 90, 86, 94, 91, 88, 196, 195,93, 97,\n",
    "199, 87, 87, 90, 90, 98, 88, 92, 97, 88, 85,\n",
    "94, 88, 93, 198, 90, 91, 90, 92, 92])\n",
    "temperature=np.sort(temps)\n",
    "print(temperature)"
   ]
  },
  {
   "cell_type": "code",
   "execution_count": 26,
   "id": "11a311dd",
   "metadata": {},
   "outputs": [
    {
     "name": "stdout",
     "output_type": "stream",
     "text": [
      "3.0\n",
      "8.0\n"
     ]
    }
   ],
   "source": [
    "patrons = np.array([ 2, 6, 14, 4, 3, 9,1, 11, 4, 2, 8])\n",
    "print(np.percentile(patrons,30))\n",
    "print(np.percentile(patrons,70))"
   ]
  },
  {
   "cell_type": "code",
   "execution_count": 27,
   "id": "00cc952b",
   "metadata": {},
   "outputs": [
    {
     "name": "stdout",
     "output_type": "stream",
     "text": [
      "La media de Cookies es: 1431.8\n",
      "La media de Cupcakes es: 124.7\n",
      "La desviación estandar de Cookies es: 611.3183785884406\n",
      "La desviación estandar de Cupcakes es: 87.22505374031019\n"
     ]
    }
   ],
   "source": [
    "cookies = np.array([68, 1820, 1420, 2062,704, 1156, 1857, 1755, 2092, 1384])\n",
    "cupcakes = np.array([20, 43, 99, 200, 12,250, 58, 120, 230, 215])\n",
    "\n",
    "print(\"La media de Cookies es:\",np.mean(cookies))\n",
    "print(\"La media de Cupcakes es:\",np.mean(cupcakes))\n",
    "print(\"La desviación estandar de Cookies es:\",np.std(cookies))\n",
    "print(\"La desviación estandar de Cupcakes es:\",np.std(cupcakes))"
   ]
  },
  {
   "cell_type": "code",
   "execution_count": 39,
   "id": "7d5a0e5b",
   "metadata": {},
   "outputs": [
    {
     "name": "stdout",
     "output_type": "stream",
     "text": [
      "El promedio de calorias de la competencia es de: 106.88311688311688\n",
      "La diferencia de las calorias de Crunchie Munchies con respecto al promedio de los otros cereales es: 46.883116883116884\n",
      "----------------------------------------------------------------------\n",
      "[ 50.  50.  50.  70.  70.  80.  90.  90.  90.  90.  90.  90.  90. 100.\n",
      " 100. 100. 100. 100. 100. 100. 100. 100. 100. 100. 100. 100. 100. 100.\n",
      " 100. 100. 110. 110. 110. 110. 110. 110. 110. 110. 110. 110. 110. 110.\n",
      " 110. 110. 110. 110. 110. 110. 110. 110. 110. 110. 110. 110. 110. 110.\n",
      " 110. 110. 110. 120. 120. 120. 120. 120. 120. 120. 120. 120. 120. 130.\n",
      " 130. 140. 140. 140. 150. 150. 160.]\n",
      "----------------------------------------------------------------------\n",
      "La mediana es de: 110.0\n"
     ]
    }
   ],
   "source": [
    "import numpy as np\n",
    "calorie_stats= np.genfromtxt(\"cereal.csv\", delimiter =\",\")\n",
    "CrunchieMunchies=60;\n",
    "average_calories=np.mean(calorie_stats)\n",
    "diferencia=average_calories-CrunchieMunchies\n",
    "print(\"El promedio de calorias de la competencia es de:\", average_calories)\n",
    "print(\"La diferencia de las calorias de Crunchie Munchies con respecto al promedio de los otros cereales es:\", diferencia)\n",
    "print(\"-\"*70)\n",
    "#-------------------------------------------------------------------------------------------------------------------------------\n",
    "\n",
    "average_calories=np.sort(calorie_stats)\n",
    "print(average_calories)\n",
    "print(\"-\"*70)\n",
    "#------------------------------------------------------------------------------------------------------------------------------\n",
    "median_calories=np.median(calorie_stats)\n",
    "print(\"La mediana es de:\", median_calories)\n",
    "#------------------------------------------------------------------------------------------------------------------------------\n"
   ]
  },
  {
   "cell_type": "code",
   "execution_count": null,
   "id": "b57cd643",
   "metadata": {},
   "outputs": [],
   "source": []
  }
 ],
 "metadata": {
  "kernelspec": {
   "display_name": "Python 3 (ipykernel)",
   "language": "python",
   "name": "python3"
  },
  "language_info": {
   "codemirror_mode": {
    "name": "ipython",
    "version": 3
   },
   "file_extension": ".py",
   "mimetype": "text/x-python",
   "name": "python",
   "nbconvert_exporter": "python",
   "pygments_lexer": "ipython3",
   "version": "3.9.13"
  }
 },
 "nbformat": 4,
 "nbformat_minor": 5
}
