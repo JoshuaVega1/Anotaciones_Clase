{
 "cells": [
  {
   "cell_type": "markdown",
   "id": "f77954a0",
   "metadata": {},
   "source": [
    "# Módulos  y Archivos"
   ]
  },
  {
   "cell_type": "markdown",
   "id": "199dafd4",
   "metadata": {},
   "source": [
    "# Namespaces\n",
    "\n",
    "- un nombre es un identificador para un objeto utilizado para diferenciarlos.\n",
    "\n",
    "4 tipos:\n",
    "\n",
    "- Built-in"
   ]
  },
  {
   "cell_type": "markdown",
   "id": "66ea8af7",
   "metadata": {},
   "source": [
    "# Módulo == Librería\n",
    "\n",
    "Código reutilizable"
   ]
  },
  {
   "cell_type": "markdown",
   "id": "bafc2145",
   "metadata": {},
   "source": [
    "# Abrir Archivos  "
   ]
  },
  {
   "cell_type": "code",
   "execution_count": 7,
   "id": "3eae5f44",
   "metadata": {},
   "outputs": [
    {
     "name": "stdout",
     "output_type": "stream",
     "text": [
      "{'Brand': 'Honda', ';Modelo': ';CB', ';Prices': ';40'}\n",
      "{'Brand': 'Yamaha', ';Modelo': ';R1', ';Prices': ';80'}\n",
      "{'Brand': 'KTM', ';Modelo': ';Duke 200', ';Prices': ';10'}\n",
      "{'Brand': 'BMW', ';Modelo': 'S1000R', ';Prices': '30;;'}\n"
     ]
    }
   ],
   "source": [
    "import csv\n",
    "\n",
    "with open('moto_data.csv') as moto_data_csv:\n",
    "    moto_reader = csv.DictReader(moto_data_csv)\n",
    "    for row in moto_reader:\n",
    "        print(row)"
   ]
  },
  {
   "cell_type": "code",
   "execution_count": 8,
   "id": "37820a7f",
   "metadata": {},
   "outputs": [
    {
     "name": "stdout",
     "output_type": "stream",
     "text": [
      "[40.0, 80.0, 10.0, 30.0] \n",
      " ******************************\n",
      "My Analysis:\n",
      "Moto Mean Price: 40.0 COP\n",
      "Moto Min Price: 10.0 COP\n",
      "Moto Max Price: 80.0 COP\n",
      "Moto Range Price: 70.0 COP\n",
      "\n"
     ]
    }
   ],
   "source": [
    "prices = []\n",
    "\n",
    "with open('moto_data.csv') as moto_data_csv:\n",
    "    moto_reader = csv.DictReader(moto_data_csv)\n",
    "    for row in moto_reader:\n",
    "        prices.append(float(row[';Prices'].replace(';','')))\n",
    "print(prices,'\\n','*'*30)\n",
    "\n",
    "mean_price = sum(prices)/len(prices)\n",
    "max_price = max(prices)\n",
    "min_price = min(prices)\n",
    "range_price = max_price - min_price\n",
    "\n",
    "my_analysis = f'''My Analysis:\n",
    "Moto Mean Price: {mean_price} COP\n",
    "Moto Min Price: {min_price} COP\n",
    "Moto Max Price: {max_price} COP\n",
    "Moto Range Price: {range_price} COP\n",
    "'''\n",
    "\n",
    "print(my_analysis)"
   ]
  },
  {
   "cell_type": "code",
   "execution_count": 9,
   "id": "57ccfd0b",
   "metadata": {},
   "outputs": [],
   "source": [
    "# Crea un archivo\n",
    "with open ('moto_data_analysis.txt', 'w') as moto_data_analysis_txt:\n",
    "    moto_data_analysis_txt.write(my_analysis)"
   ]
  },
  {
   "cell_type": "code",
   "execution_count": 35,
   "id": "251ec3b9",
   "metadata": {},
   "outputs": [],
   "source": [
    "with open('moto_data.csv', 'a') as moto_data:\n",
    "    fields = [';Brand', ';Model', ';Prices']\n",
    "    our_writer = csv.DictWriter(moto_data, fieldnames= fields)\n",
    "    our_writer.writerow({';Brand': 'BMW', ';Model': 'S1000R', ';Prices':'30'})\n",
    "    "
   ]
  },
  {
   "cell_type": "markdown",
   "id": "759d586c",
   "metadata": {},
   "source": [
    "# Numpy\n",
    "\n",
    "Librería matemática."
   ]
  },
  {
   "cell_type": "code",
   "execution_count": 19,
   "id": "274b1c0c",
   "metadata": {},
   "outputs": [
    {
     "name": "stdout",
     "output_type": "stream",
     "text": [
      "[[2.    0.75  2.    1.    0.5  ]\n",
      " [1.    0.125 1.    1.    0.125]\n",
      " [2.75  1.5   1.    0.    1.   ]\n",
      " [4.    0.5   2.    2.    0.5  ]] \n",
      " ******************************\n",
      "[2. 1. 1. 2.]\n",
      "[False  True  True False]\n",
      "******************************\n",
      "[2.   0.75 2.   1.   0.5 ] \n",
      " [2.75 1.5  1.   0.   1.  ]\n",
      "******************************\n"
     ]
    }
   ],
   "source": [
    "import numpy as np\n",
    "\n",
    "recipes = np.genfromtxt('Recipes.csv', delimiter = ',')\n",
    "print(recipes,'\\n','*'*30)\n",
    "      \n",
    "eggs = recipes[:,2]\n",
    "print(eggs)\n",
    "print(eggs == 1)\n",
    "print('*'*30)\n",
    "\n",
    "cupcakes = recipes[0,:]\n",
    "cookies = recipes[2,:]\n",
    "print(cupcakes,'\\n',cookies)\n",
    "print('*'*30)\n"
   ]
  },
  {
   "cell_type": "markdown",
   "id": "190d9c91",
   "metadata": {},
   "source": [
    "# Ejercicios Numpy "
   ]
  },
  {
   "cell_type": "code",
   "execution_count": 54,
   "id": "287ccf05",
   "metadata": {},
   "outputs": [
    {
     "name": "stdout",
     "output_type": "stream",
     "text": [
      "[ 70. 120.  70.  50. 110. 110. 110. 130.  90.  90. 120. 110. 120. 110.\n",
      " 110. 110. 100. 110. 110. 110. 100. 110. 100. 100. 110. 110. 100. 120.\n",
      " 120. 110. 100. 110. 100. 110. 120. 120. 110. 110. 110. 140. 110. 100.\n",
      " 110. 100. 150. 150. 160. 100. 120. 140.  90. 130. 120. 100.  50.  50.\n",
      " 100. 100. 120. 100.  90. 110. 110.  80.  90.  90. 110. 110.  90. 110.\n",
      " 140. 100. 110. 110. 100. 100.]\n",
      "******************************\n",
      "El promedio de calorías de las otras marcas es de 106.84210526315789\n",
      "En promedio las otras marcas tienen 46.84210526315789 calorías\n",
      "******************************\n",
      "De menor a mayor:\n",
      " [ 50.  50.  50.  70.  70.  80.  90.  90.  90.  90.  90.  90.  90. 100.\n",
      " 100. 100. 100. 100. 100. 100. 100. 100. 100. 100. 100. 100. 100. 100.\n",
      " 100. 100. 110. 110. 110. 110. 110. 110. 110. 110. 110. 110. 110. 110.\n",
      " 110. 110. 110. 110. 110. 110. 110. 110. 110. 110. 110. 110. 110. 110.\n",
      " 110. 110. 120. 120. 120. 120. 120. 120. 120. 120. 120. 120. 130. 130.\n",
      " 140. 140. 140. 150. 150. 160.]\n",
      "******************************\n",
      "De mayor a menor:\n",
      " [160. 150. 150. 140. 140. 140. 130. 130. 120. 120. 120. 120. 120. 120.\n",
      " 120. 120. 120. 120. 110. 110. 110. 110. 110. 110. 110. 110. 110. 110.\n",
      " 110. 110. 110. 110. 110. 110. 110. 110. 110. 110. 110. 110. 110. 110.\n",
      " 110. 110. 110. 110. 100. 100. 100. 100. 100. 100. 100. 100. 100. 100.\n",
      " 100. 100. 100. 100. 100. 100. 100.  90.  90.  90.  90.  90.  90.  90.\n",
      "  80.  70.  70.  50.  50.  50.]\n",
      "******************************\n",
      "La mediana es: 110.0\n",
      "******************************\n",
      "Media Aritmética: 106.84210526315789; Mediana: 110.0\n",
      "******************************\n",
      "Percentiles: [25, 50, 75, 100]\n",
      "******************************\n",
      "100.0\n",
      "110.0\n",
      "110.0\n",
      "160.0\n",
      "******************************\n",
      "Los percentiles son:\n",
      " [ 0  1  2  3  4  5  6  7  8  9 10 11 12 13 14 15 16 17 18 19 20 21 22 23\n",
      " 24 25 26 27 28 29 30 31 32 33 34 35 36 37 38 39 40 41 42 43 44 45 46 47\n",
      " 48 49 50 51 52 53 54 55 56 57 58 59 60 61 62 63 64 65 66 67 68 69 70 71\n",
      " 72 73 74 75 76 77 78 79 80 81 82 83 84 85 86 87 88 89 90 91 92 93 94 95\n",
      " 96 97 98 99]\n",
      "******************************\n",
      "El percentil es: 4, con valor: 70.0\n",
      "******************************\n",
      "El 96.05263157894737 tiene más de 60 calorías\n",
      "******************************\n",
      "La desviación estándar es de: 19.4807952877071\n"
     ]
    }
   ],
   "source": [
    "import numpy as np\n",
    "\n",
    "calorie_stats = np.genfromtxt('cereal.csv', delimiter = ',')\n",
    "calorie_stats = np.delete(calorie_stats, (len(calorie_stats)-1))\n",
    "\n",
    "print(calorie_stats)\n",
    "print('*'*30)\n",
    "\n",
    "average_calories = np.mean(calorie_stats)\n",
    "crunchie_calories = 60\n",
    "print(f'El promedio de calorías de las otras marcas es de {average_calories}')\n",
    "print(f'En promedio las otras marcas tienen {abs(crunchie_calories - average_calories)} calorías')\n",
    "print('*'*30)\n",
    "\n",
    "calorie_stats.sort()\n",
    "print('De menor a mayor:\\n',calorie_stats)\n",
    "print('*'*30)\n",
    "print('De mayor a menor:\\n',calorie_stats[::-1])\n",
    "print('*'*30)\n",
    "\n",
    "median_calories = np.median(calorie_stats)\n",
    "print(f'La mediana es: {median_calories}')\n",
    "print('*'*30)\n",
    "\n",
    "print(f'Media Aritmética: {average_calories}; Mediana: {median_calories}')\n",
    "print('*'*30)\n",
    "\n",
    "percentiles = []\n",
    "p = 25\n",
    "for i in range(4):\n",
    "    percentiles.append(p)\n",
    "    p = p + 25\n",
    "print(f'Percentiles: {percentiles}')\n",
    "print('*'*30)\n",
    "\n",
    "for i in range(4):\n",
    "    percentil = np.percentile(calorie_stats, percentiles[i])\n",
    "    print(percentil)\n",
    "print('*'*30)\n",
    "\n",
    "percentiles_1 = np.arange(0,100,1)\n",
    "print(f'Los percentiles son:\\n',percentiles_1)\n",
    "print('*'*30)\n",
    "\n",
    "for i in percentiles_1:\n",
    "    percentil_nth = np.percentile(calorie_stats, i)\n",
    "    if percentil_nth > 60:\n",
    "        nth_percentile = i\n",
    "        print(f'El percentil es: {nth_percentile}, con valor: {percentil_nth}')\n",
    "        break\n",
    "print('*'*30)\n",
    "\n",
    "more_calories = np.mean(calorie_stats > 60)*100\n",
    "print(f'El {more_calories} tiene más de 60 calorías')\n",
    "print('*'*30)\n",
    "\n",
    "calorie_std = np.std(calorie_stats)\n",
    "print(f'La desviación estándar es de: {calorie_std}')"
   ]
  }
 ],
 "metadata": {
  "kernelspec": {
   "display_name": "Python 3 (ipykernel)",
   "language": "python",
   "name": "python3"
  },
  "language_info": {
   "codemirror_mode": {
    "name": "ipython",
    "version": 3
   },
   "file_extension": ".py",
   "mimetype": "text/x-python",
   "name": "python",
   "nbconvert_exporter": "python",
   "pygments_lexer": "ipython3",
   "version": "3.9.12"
  }
 },
 "nbformat": 4,
 "nbformat_minor": 5
}
