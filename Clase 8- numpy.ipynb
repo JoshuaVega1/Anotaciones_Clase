{
 "cells": [
  {
   "cell_type": "code",
   "execution_count": 2,
   "id": "22a4aa01",
   "metadata": {},
   "outputs": [],
   "source": [
    "import numpy as np"
   ]
  },
  {
   "cell_type": "code",
   "execution_count": 5,
   "id": "6fab8e41",
   "metadata": {},
   "outputs": [
    {
     "name": "stdout",
     "output_type": "stream",
     "text": [
      "[[2.    0.75  2.    1.    0.5  ]\n",
      " [1.    0.125 1.    1.    0.125]\n",
      " [2.75  1.5   1.    0.    1.   ]\n",
      " [4.    0.5   2.    2.    0.5  ]]\n"
     ]
    }
   ],
   "source": [
    "recipes= np.genfromtxt(\"recipes.csv\", delimiter =\",\")\n",
    "print(recipes)"
   ]
  },
  {
   "cell_type": "code",
   "execution_count": 6,
   "id": "7e7d409e",
   "metadata": {},
   "outputs": [
    {
     "name": "stdout",
     "output_type": "stream",
     "text": [
      "[2. 1. 1. 2.]\n"
     ]
    }
   ],
   "source": [
    "eggs= recipes[:,2]\n",
    "print(eggs)"
   ]
  },
  {
   "cell_type": "code",
   "execution_count": 7,
   "id": "cbf57be7",
   "metadata": {},
   "outputs": [
    {
     "data": {
      "text/plain": [
       "array([False,  True,  True, False])"
      ]
     },
     "execution_count": 7,
     "metadata": {},
     "output_type": "execute_result"
    }
   ],
   "source": [
    "eggs== 1"
   ]
  },
  {
   "cell_type": "code",
   "execution_count": 9,
   "id": "adc96256",
   "metadata": {},
   "outputs": [
    {
     "name": "stdout",
     "output_type": "stream",
     "text": [
      "[2.   0.75 2.   1.   0.5 ]\n",
      "[2.75 1.5  1.   0.   1.  ]\n"
     ]
    }
   ],
   "source": [
    "cupcakes=recipes[0,:]\n",
    "cookies= recipes[2,:]\n",
    "print(cupcakes)\n",
    "print(cookies)"
   ]
  },
  {
   "cell_type": "code",
   "execution_count": 10,
   "id": "9d6f6325",
   "metadata": {},
   "outputs": [
    {
     "name": "stdout",
     "output_type": "stream",
     "text": [
      "[6.75 3.   5.   2.   2.  ]\n"
     ]
    }
   ],
   "source": [
    "grocery_list=2*cupcakes+cookies\n",
    "print(grocery_list)"
   ]
  },
  {
   "cell_type": "code",
   "execution_count": null,
   "id": "cf4405b0",
   "metadata": {},
   "outputs": [],
   "source": []
  }
 ],
 "metadata": {
  "kernelspec": {
   "display_name": "Python 3 (ipykernel)",
   "language": "python",
   "name": "python3"
  },
  "language_info": {
   "codemirror_mode": {
    "name": "ipython",
    "version": 3
   },
   "file_extension": ".py",
   "mimetype": "text/x-python",
   "name": "python",
   "nbconvert_exporter": "python",
   "pygments_lexer": "ipython3",
   "version": "3.9.13"
  }
 },
 "nbformat": 4,
 "nbformat_minor": 5
}
